{
 "cells": [
  {
   "cell_type": "code",
   "execution_count": 1,
   "metadata": {
    "collapsed": true
   },
   "outputs": [],
   "source": [
    "%matplotlib inline\n",
    "\n",
    "#Importing Modules\n",
    "from pandas import DataFrame, Series\n",
    "import numpy as np\n",
    "import pandas as pd\n",
    "import matplotlib.pyplot as plt\n",
    "import seaborn as sns"
   ]
  },
  {
   "cell_type": "code",
   "execution_count": 22,
   "metadata": {
    "collapsed": false
   },
   "outputs": [
    {
     "data": {
      "text/plain": [
       "(202319, 23)"
      ]
     },
     "execution_count": 22,
     "metadata": {},
     "output_type": "execute_result"
    }
   ],
   "source": [
    "train = pd.read_csv(\"MatchOverviewTraining.csv\")\n",
    "test = pd.read_csv(\"MatchOverviewTest.csv\")\n",
    "match_detail = pd.read_csv(\"MatchDetail.csv\")\n",
    "match_detail.shape"
   ]
  },
  {
   "cell_type": "code",
   "execution_count": 25,
   "metadata": {
    "collapsed": false
   },
   "outputs": [
    {
     "data": {
      "text/plain": [
       "0"
      ]
     },
     "execution_count": 25,
     "metadata": {},
     "output_type": "execute_result"
    }
   ],
   "source": [
    "match_detail[\"final_gold\"] = match_detail[\"g_45\"]\n",
    "for i in range(40, -5, -5):\n",
    "    match_detail.loc[match_detail[\"final_gold\"]==0, \"final_gold\"] = match_detail[\"g_\"+str(i)]\n",
    "match_detail.head()\n",
    "match_detail[\"final_gold\"].loc[match_detail[\"final_gold\"]==0].count()"
   ]
  },
  {
   "cell_type": "code",
   "execution_count": 35,
   "metadata": {
    "collapsed": false,
    "scrolled": true
   },
   "outputs": [
    {
     "data": {
      "text/plain": [
       "match_id\n",
       "2488125718    189117.0\n",
       "2488125799    107584.0\n",
       "2488125860    187543.0\n",
       "2488126117    192207.0\n",
       "2488126132    149956.0\n",
       "2488126139    148461.0\n",
       "2488126651    185046.0\n",
       "2488126692    112518.0\n",
       "2488126711    107094.0\n",
       "2488126795    151009.0\n",
       "2488126901    173208.0\n",
       "2488126983    121308.0\n",
       "2488126985    159056.0\n",
       "2488127082    125692.0\n",
       "2488127089    173181.0\n",
       "2488127225     97704.0\n",
       "2488127365    189634.0\n",
       "2488127556    186231.0\n",
       "2488127619     20351.0\n",
       "2488128023    164930.0\n",
       "2488128102    126340.0\n",
       "2488128317    158867.0\n",
       "2488128532    186480.0\n",
       "2488128544    124584.0\n",
       "2488128719    160842.0\n",
       "2488128739    129229.0\n",
       "2488128751    161085.0\n",
       "2488128764    187143.0\n",
       "2488128960    178760.0\n",
       "2488129036    201271.0\n",
       "                ...   \n",
       "2503038553      2532.0\n",
       "2503038559     36933.0\n",
       "2503038584     17879.0\n",
       "2503038999     17120.0\n",
       "2503039151     20623.0\n",
       "2503039473     28641.0\n",
       "2503039813     18188.0\n",
       "2503040372     53688.0\n",
       "2503040639     45178.0\n",
       "2503041040     20728.0\n",
       "2503041964     57053.0\n",
       "2503043436     35683.0\n",
       "2503044008     15378.0\n",
       "2503044470     17171.0\n",
       "2503044993     69205.0\n",
       "2503045051     22334.0\n",
       "2503046358     36568.0\n",
       "2503046475     16920.0\n",
       "2503046567     19567.0\n",
       "2503047033     14237.0\n",
       "2503047525     42034.0\n",
       "2503047640     30179.0\n",
       "2503048267     32336.0\n",
       "2503048717     73201.0\n",
       "2503048830     29268.0\n",
       "2503048839      2551.0\n",
       "2503049232     16876.0\n",
       "2503049282     33312.0\n",
       "2503049684     15133.0\n",
       "2503049698     41586.0\n",
       "Name: final_gold, dtype: float64"
      ]
     },
     "execution_count": 35,
     "metadata": {},
     "output_type": "execute_result"
    }
   ],
   "source": [
    "match_detail[[\"match_id\",\"final_gold\"]].head()\n",
    "match_detail[\"team_id\"] = "
   ]
  },
  {
   "cell_type": "code",
   "execution_count": 29,
   "metadata": {
    "collapsed": false
   },
   "outputs": [
    {
     "data": {
      "text/html": [
       "<div>\n",
       "<table border=\"1\" class=\"dataframe\">\n",
       "  <thead>\n",
       "    <tr style=\"text-align: right;\">\n",
       "      <th></th>\n",
       "      <th>match_id</th>\n",
       "      <th>hero_1</th>\n",
       "      <th>hero_2</th>\n",
       "      <th>hero_3</th>\n",
       "      <th>hero_4</th>\n",
       "      <th>hero_5</th>\n",
       "      <th>hero_6</th>\n",
       "      <th>hero_7</th>\n",
       "      <th>hero_8</th>\n",
       "      <th>hero_9</th>\n",
       "      <th>hero_10</th>\n",
       "      <th>first_5_won</th>\n",
       "    </tr>\n",
       "  </thead>\n",
       "  <tbody>\n",
       "    <tr>\n",
       "      <th>0</th>\n",
       "      <td>2488245920</td>\n",
       "      <td>34</td>\n",
       "      <td>83</td>\n",
       "      <td>29</td>\n",
       "      <td>102</td>\n",
       "      <td>12</td>\n",
       "      <td>88</td>\n",
       "      <td>107</td>\n",
       "      <td>10</td>\n",
       "      <td>70</td>\n",
       "      <td>53</td>\n",
       "      <td>True</td>\n",
       "    </tr>\n",
       "    <tr>\n",
       "      <th>1</th>\n",
       "      <td>2488233366</td>\n",
       "      <td>102</td>\n",
       "      <td>63</td>\n",
       "      <td>34</td>\n",
       "      <td>100</td>\n",
       "      <td>60</td>\n",
       "      <td>1</td>\n",
       "      <td>38</td>\n",
       "      <td>48</td>\n",
       "      <td>93</td>\n",
       "      <td>33</td>\n",
       "      <td>False</td>\n",
       "    </tr>\n",
       "    <tr>\n",
       "      <th>2</th>\n",
       "      <td>2488231318</td>\n",
       "      <td>7</td>\n",
       "      <td>112</td>\n",
       "      <td>8</td>\n",
       "      <td>64</td>\n",
       "      <td>71</td>\n",
       "      <td>1</td>\n",
       "      <td>11</td>\n",
       "      <td>41</td>\n",
       "      <td>102</td>\n",
       "      <td>92</td>\n",
       "      <td>True</td>\n",
       "    </tr>\n",
       "    <tr>\n",
       "      <th>3</th>\n",
       "      <td>2488216163</td>\n",
       "      <td>74</td>\n",
       "      <td>102</td>\n",
       "      <td>9</td>\n",
       "      <td>29</td>\n",
       "      <td>14</td>\n",
       "      <td>105</td>\n",
       "      <td>86</td>\n",
       "      <td>65</td>\n",
       "      <td>55</td>\n",
       "      <td>111</td>\n",
       "      <td>True</td>\n",
       "    </tr>\n",
       "    <tr>\n",
       "      <th>4</th>\n",
       "      <td>2488215113</td>\n",
       "      <td>51</td>\n",
       "      <td>68</td>\n",
       "      <td>79</td>\n",
       "      <td>15</td>\n",
       "      <td>10</td>\n",
       "      <td>85</td>\n",
       "      <td>28</td>\n",
       "      <td>91</td>\n",
       "      <td>102</td>\n",
       "      <td>89</td>\n",
       "      <td>True</td>\n",
       "    </tr>\n",
       "  </tbody>\n",
       "</table>\n",
       "</div>"
      ],
      "text/plain": [
       "     match_id  hero_1  hero_2  hero_3  hero_4  hero_5  hero_6  hero_7  hero_8  \\\n",
       "0  2488245920      34      83      29     102      12      88     107      10   \n",
       "1  2488233366     102      63      34     100      60       1      38      48   \n",
       "2  2488231318       7     112       8      64      71       1      11      41   \n",
       "3  2488216163      74     102       9      29      14     105      86      65   \n",
       "4  2488215113      51      68      79      15      10      85      28      91   \n",
       "\n",
       "   hero_9  hero_10 first_5_won  \n",
       "0      70       53        True  \n",
       "1      93       33       False  \n",
       "2     102       92        True  \n",
       "3      55      111        True  \n",
       "4     102       89        True  "
      ]
     },
     "execution_count": 29,
     "metadata": {},
     "output_type": "execute_result"
    }
   ],
   "source": [
    "train.head()"
   ]
  },
  {
   "cell_type": "code",
   "execution_count": null,
   "metadata": {
    "collapsed": true
   },
   "outputs": [],
   "source": []
  }
 ],
 "metadata": {
  "anaconda-cloud": {},
  "kernelspec": {
   "display_name": "Python [Root]",
   "language": "python",
   "name": "Python [Root]"
  },
  "language_info": {
   "codemirror_mode": {
    "name": "ipython",
    "version": 3
   },
   "file_extension": ".py",
   "mimetype": "text/x-python",
   "name": "python",
   "nbconvert_exporter": "python",
   "pygments_lexer": "ipython3",
   "version": "3.5.2"
  }
 },
 "nbformat": 4,
 "nbformat_minor": 0
}
